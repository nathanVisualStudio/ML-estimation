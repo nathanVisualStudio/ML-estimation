{
 "cells": [
  {
   "cell_type": "code",
   "execution_count": null,
   "id": "initial_id",
   "metadata": {
    "ExecuteTime": {
     "end_time": "2025-07-30T15:06:30.676980Z",
     "start_time": "2025-07-30T15:06:30.653461Z"
    },
    "collapsed": true
   },
   "outputs": [
    {
     "data": {
      "text/plain": [
       "['scaler.pkl']"
      ]
     },
     "execution_count": 21,
     "metadata": {},
     "output_type": "execute_result"
    }
   ],
   "source": [
    "import importlib\n",
    "import joblib\n",
    "\n",
    "#from ipykernel.compiler import convert_to_long_pathname\n",
    "\n",
    "import IAHouse as modele\n",
    "importlib.reload(modele)\n",
    "\n",
    "# Charger les données\n",
    "df = modele.chargerDonner(\"C:/Users/LENOVO/Desktop/Projet machine learning/Fichier CSV/prix_habitations_belgique_1000_localisation.csv\")\n",
    "\n",
    "# Séparer les variables\n",
    "X = df[[\"Surface_m2\", \"Nb_Chambres\", \"Distance_Centre\"]]\n",
    "y = df[[\"Prix_kEuros\"]]\n",
    "\n",
    "# Entraîner le modèle\n",
    "model, scaler, X_train, X_test, y_train, y_test = modele.entrainerModele(X, y)\n",
    "\n",
    "#sauvegarde dans des fichier les modèles et les échelles.\n",
    "joblib.dump(model, \"model.pkl\")\n",
    "joblib.dump(scaler, \"scaler.pkl\")\n",
    "\n"
   ]
  },
  {
   "cell_type": "code",
   "execution_count": null,
   "id": "7b7c2b44d31706e",
   "metadata": {
    "ExecuteTime": {
     "end_time": "2025-07-30T15:19:22.571460Z",
     "start_time": "2025-07-30T15:17:22.253085Z"
    }
   },
   "outputs": [],
   "source": [
    "import numpy as np\n",
    "import tkinter as tk\n",
    "import pandas as pd\n",
    "\n",
    "import joblib\n",
    "\n",
    "model = joblib.load(\"../Backend/model.pkl\")\n",
    "scaler = joblib.load(\"../Backend/scaler.pkl\")\n",
    "\n",
    "colonnes = [\"Surface_m2\", \"Nb_Chambres\", \"Distance_Centre\"]\n",
    "\n",
    "def estimation(m2, chambres, centre):\n",
    "\n",
    "    m2 = float(m2)\n",
    "    chambres = int(chambres)\n",
    "    centre = float(centre)\n",
    "\n",
    "    nouvelle_maison = np.array([[m2, chambres, centre]])\n",
    "    nouvelle_maison_df = pd.DataFrame(nouvelle_maison, columns=colonnes)\n",
    "    nouvelle_maison_std = scaler.transform(nouvelle_maison_df)\n",
    "\n",
    "    prediction = model.predict(nouvelle_maison_std)\n",
    "\n",
    "    return print(f\"Prix estimé : {prediction[0][0]:.2f} k€\")\n",
    "\n",
    "root = tk.Tk()\n",
    "root.title(\"Estimation prix habitation\")\n",
    "root.geometry(\"400x400\")  # largeur x hauteur en pixels\n",
    "\n",
    "# Widgets\n",
    "tk.Label(root, text=\"Surface (m²):\", font=(\"Arial\", 14)).grid(row=0, column=0, pady=10, padx=10)\n",
    "entry_m2 = tk.Entry(root, font=(\"Arial\", 14))\n",
    "entry_m2.grid(row=0, column=1, pady=10, padx=10)\n",
    "\n",
    "tk.Label(root, text=\"Nombre de chambres:\", font=(\"Arial\", 14)).grid(row=1, column=0, pady=10, padx=10)\n",
    "entry_chambres = tk.Entry(root, font=(\"Arial\", 14))\n",
    "entry_chambres.grid(row=1, column=1, pady=10, padx=10)\n",
    "\n",
    "tk.Label(root, text=\"Distance du centre en km\",font=(\"Arial\", 14)).grid(row=2, column=0, pady=10, padx=10 )\n",
    "entry_centre = tk.Entry(root, font=(\"Arial\", 14))\n",
    "entry_centre.grid(row=2, column=1, pady=10, padx=10)\n",
    "\n",
    "result_label = tk.Label(root, text=\"\", font=(\"Arial\", 16))\n",
    "result_label.grid(row=4, column=0, columnspan=2, pady=20)\n",
    "\n",
    "def on_estimer():\n",
    "    m2 = entry_m2.get()\n",
    "    chambres = entry_chambres.get()\n",
    "    centre = entry_centre.get()\n",
    "    estimation(m2, chambres,centre)\n",
    "\n",
    "btn_estimer = tk.Button(root, text=\"Estimer\", command=on_estimer, font=(\"Arial\", 14), bg=\"#4CAF50\", fg=\"white\")\n",
    "btn_estimer.grid(row=4, column=0, columnspan=2, pady=10, ipadx=10)\n",
    "\n",
    "root.mainloop()"
   ]
  }
 ],
 "metadata": {
  "kernelspec": {
   "display_name": "Python 3",
   "language": "python",
   "name": "python3"
  },
  "language_info": {
   "codemirror_mode": {
    "name": "ipython",
    "version": 3
   },
   "file_extension": ".py",
   "mimetype": "text/x-python",
   "name": "python",
   "nbconvert_exporter": "python",
   "pygments_lexer": "ipython3",
   "version": "3.13.5"
  }
 },
 "nbformat": 4,
 "nbformat_minor": 5
}
