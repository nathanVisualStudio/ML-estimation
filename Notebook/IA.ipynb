{
 "cells": [
  {
   "cell_type": "code",
   "execution_count": null,
   "id": "initial_id",
   "metadata": {
    "ExecuteTime": {
     "end_time": "2025-07-30T15:06:30.676980Z",
     "start_time": "2025-07-30T15:06:30.653461Z"
    },
    "collapsed": true
   },
   "outputs": [
    {
     "data": {
      "text/plain": [
       "['scaler.pkl']"
      ]
     },
     "execution_count": 21,
     "metadata": {},
     "output_type": "execute_result"
    }
   ],
   "source": [
    "import importlib\n",
    "import joblib\n",
    "\n",
    "#from ipykernel.compiler import convert_to_long_pathname\n",
    "\n",
    "import IAHouse as modele\n",
    "importlib.reload(modele)\n",
    "\n",
    "# Charger les données\n",
    "df = modele.chargerDonner(\"C:/Users/LENOVO/Desktop/Projet machine learning/Fichier CSV/prix_habitations_belgique_1000_localisation.csv\")\n",
    "\n",
    "# Séparer les variables\n",
    "X = df[[\"Surface_m2\", \"Nb_Chambres\", \"Distance_Centre\"]]\n",
    "y = df[[\"Prix_kEuros\"]]\n",
    "\n",
    "# Entraîner le modèle\n",
    "model, scaler, X_train, X_test, y_train, y_test = modele.entrainerModele(X, y)\n",
    "\n",
    "joblib.dump(model, \"model.pkl\")\n",
    "joblib.dump(scaler, \"scaler.pkl\")\n",
    "\n"
   ]
  },
  {
   "cell_type": "code",
   "execution_count": null,
   "id": "7b7c2b44d31706e",
   "metadata": {
    "ExecuteTime": {
     "end_time": "2025-07-30T15:19:22.571460Z",
     "start_time": "2025-07-30T15:17:22.253085Z"
    }
   },
   "outputs": [
    {
     "ename": "FileNotFoundError",
     "evalue": "[Errno 2] No such file or directory: 'model.pkl'",
     "output_type": "error",
     "traceback": [
      "\u001b[31m---------------------------------------------------------------------------\u001b[39m",
      "\u001b[31mFileNotFoundError\u001b[39m                         Traceback (most recent call last)",
      "\u001b[36mCell\u001b[39m\u001b[36m \u001b[39m\u001b[32mIn[3]\u001b[39m\u001b[32m, line 7\u001b[39m\n\u001b[32m      3\u001b[39m \u001b[38;5;28;01mimport\u001b[39;00m\u001b[38;5;250m \u001b[39m\u001b[34;01mpandas\u001b[39;00m\u001b[38;5;250m \u001b[39m\u001b[38;5;28;01mas\u001b[39;00m\u001b[38;5;250m \u001b[39m\u001b[34;01mpd\u001b[39;00m\n\u001b[32m      5\u001b[39m \u001b[38;5;28;01mimport\u001b[39;00m\u001b[38;5;250m \u001b[39m\u001b[34;01mjoblib\u001b[39;00m\n\u001b[32m----> \u001b[39m\u001b[32m7\u001b[39m model = \u001b[43mjoblib\u001b[49m\u001b[43m.\u001b[49m\u001b[43mload\u001b[49m\u001b[43m(\u001b[49m\u001b[33;43m\"\u001b[39;49m\u001b[33;43mmodel.pkl\u001b[39;49m\u001b[33;43m\"\u001b[39;49m\u001b[43m)\u001b[49m\n\u001b[32m      8\u001b[39m scaler = joblib.load(\u001b[33m\"\u001b[39m\u001b[33mscaler.pkl\u001b[39m\u001b[33m\"\u001b[39m)\n\u001b[32m     10\u001b[39m colonnes = [\u001b[33m\"\u001b[39m\u001b[33mSurface_m2\u001b[39m\u001b[33m\"\u001b[39m, \u001b[33m\"\u001b[39m\u001b[33mNb_Chambres\u001b[39m\u001b[33m\"\u001b[39m, \u001b[33m\"\u001b[39m\u001b[33mDistance_Centre\u001b[39m\u001b[33m\"\u001b[39m]\n",
      "\u001b[36mFile \u001b[39m\u001b[32mc:\\Users\\LENOVO\\AppData\\Local\\Programs\\Python\\Python313\\Lib\\site-packages\\joblib\\numpy_pickle.py:735\u001b[39m, in \u001b[36mload\u001b[39m\u001b[34m(filename, mmap_mode, ensure_native_byte_order)\u001b[39m\n\u001b[32m    733\u001b[39m         obj = _unpickle(fobj, ensure_native_byte_order=ensure_native_byte_order)\n\u001b[32m    734\u001b[39m \u001b[38;5;28;01melse\u001b[39;00m:\n\u001b[32m--> \u001b[39m\u001b[32m735\u001b[39m     \u001b[38;5;28;01mwith\u001b[39;00m \u001b[38;5;28;43mopen\u001b[39;49m\u001b[43m(\u001b[49m\u001b[43mfilename\u001b[49m\u001b[43m,\u001b[49m\u001b[43m \u001b[49m\u001b[33;43m\"\u001b[39;49m\u001b[33;43mrb\u001b[39;49m\u001b[33;43m\"\u001b[39;49m\u001b[43m)\u001b[49m \u001b[38;5;28;01mas\u001b[39;00m f:\n\u001b[32m    736\u001b[39m         \u001b[38;5;28;01mwith\u001b[39;00m _validate_fileobject_and_memmap(f, filename, mmap_mode) \u001b[38;5;28;01mas\u001b[39;00m (\n\u001b[32m    737\u001b[39m             fobj,\n\u001b[32m    738\u001b[39m             validated_mmap_mode,\n\u001b[32m    739\u001b[39m         ):\n\u001b[32m    740\u001b[39m             \u001b[38;5;28;01mif\u001b[39;00m \u001b[38;5;28misinstance\u001b[39m(fobj, \u001b[38;5;28mstr\u001b[39m):\n\u001b[32m    741\u001b[39m                 \u001b[38;5;66;03m# if the returned file object is a string, this means we\u001b[39;00m\n\u001b[32m    742\u001b[39m                 \u001b[38;5;66;03m# try to load a pickle file generated with an version of\u001b[39;00m\n\u001b[32m    743\u001b[39m                 \u001b[38;5;66;03m# Joblib so we load it with joblib compatibility function.\u001b[39;00m\n",
      "\u001b[31mFileNotFoundError\u001b[39m: [Errno 2] No such file or directory: 'model.pkl'"
     ]
    }
   ],
   "source": [
    "import numpy as np\n",
    "import tkinter as tk\n",
    "import pandas as pd\n",
    "\n",
    "import joblib\n",
    "\n",
    "model = joblib.load(\"../Backend/model.pkl\")\n",
    "scaler = joblib.load(\"../Backend/scaler.pkl\")\n",
    "\n",
    "colonnes = [\"Surface_m2\", \"Nb_Chambres\", \"Distance_Centre\"]\n",
    "\n",
    "def estimation(m2, chambres, centre):\n",
    "\n",
    "    m2 = float(m2)\n",
    "    chambres = int(chambres)\n",
    "    centre = float(centre)\n",
    "\n",
    "    nouvelle_maison = np.array([[m2, chambres, centre]])\n",
    "    nouvelle_maison_df = pd.DataFrame(nouvelle_maison, columns=colonnes)\n",
    "    nouvelle_maison_std = scaler.transform(nouvelle_maison_df)\n",
    "\n",
    "    prediction = model.predict(nouvelle_maison_std)\n",
    "\n",
    "    return print(f\"Prix estimé : {prediction[0][0]:.2f} k€\")\n",
    "\n",
    "root = tk.Tk()\n",
    "root.title(\"Estimation prix habitation\")\n",
    "root.geometry(\"400x400\")  # largeur x hauteur en pixels\n",
    "\n",
    "# Widgets\n",
    "tk.Label(root, text=\"Surface (m²):\", font=(\"Arial\", 14)).grid(row=0, column=0, pady=10, padx=10)\n",
    "entry_m2 = tk.Entry(root, font=(\"Arial\", 14))\n",
    "entry_m2.grid(row=0, column=1, pady=10, padx=10)\n",
    "\n",
    "tk.Label(root, text=\"Nombre de chambres:\", font=(\"Arial\", 14)).grid(row=1, column=0, pady=10, padx=10)\n",
    "entry_chambres = tk.Entry(root, font=(\"Arial\", 14))\n",
    "entry_chambres.grid(row=1, column=1, pady=10, padx=10)\n",
    "\n",
    "tk.Label(root, text=\"Distance du centre en km\",font=(\"Arial\", 14)).grid(row=2, column=0, pady=10, padx=10 )\n",
    "entry_centre = tk.Entry(root, font=(\"Arial\", 14))\n",
    "entry_centre.grid(row=2, column=1, pady=10, padx=10)\n",
    "\n",
    "result_label = tk.Label(root, text=\"\", font=(\"Arial\", 16))\n",
    "result_label.grid(row=4, column=0, columnspan=2, pady=20)\n",
    "\n",
    "def on_estimer():\n",
    "    m2 = entry_m2.get()\n",
    "    chambres = entry_chambres.get()\n",
    "    centre = entry_centre.get()\n",
    "    estimation(m2, chambres,centre)\n",
    "\n",
    "btn_estimer = tk.Button(root, text=\"Estimer\", command=on_estimer, font=(\"Arial\", 14), bg=\"#4CAF50\", fg=\"white\")\n",
    "btn_estimer.grid(row=4, column=0, columnspan=2, pady=10, ipadx=10)\n",
    "\n",
    "root.mainloop()"
   ]
  }
 ],
 "metadata": {
  "kernelspec": {
   "display_name": "Python 3",
   "language": "python",
   "name": "python3"
  },
  "language_info": {
   "codemirror_mode": {
    "name": "ipython",
    "version": 3
   },
   "file_extension": ".py",
   "mimetype": "text/x-python",
   "name": "python",
   "nbconvert_exporter": "python",
   "pygments_lexer": "ipython3",
   "version": "3.13.5"
  }
 },
 "nbformat": 4,
 "nbformat_minor": 5
}
